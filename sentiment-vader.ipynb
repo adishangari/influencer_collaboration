{
 "cells": [
  {
   "cell_type": "code",
   "execution_count": 1,
   "id": "fe03613f",
   "metadata": {
    "_cell_guid": "b1076dfc-b9ad-4769-8c92-a6c4dae69d19",
    "_uuid": "8f2839f25d086af736a60e9eeb907d3b93b6e0e5",
    "execution": {
     "iopub.execute_input": "2025-05-13T12:56:58.619266Z",
     "iopub.status.busy": "2025-05-13T12:56:58.618875Z",
     "iopub.status.idle": "2025-05-13T12:57:00.744168Z",
     "shell.execute_reply": "2025-05-13T12:57:00.742478Z"
    },
    "papermill": {
     "duration": 2.133866,
     "end_time": "2025-05-13T12:57:00.746517",
     "exception": false,
     "start_time": "2025-05-13T12:56:58.612651",
     "status": "completed"
    },
    "tags": []
   },
   "outputs": [
    {
     "name": "stdout",
     "output_type": "stream",
     "text": [
      "/kaggle/input/comments/merged_df-2.csv\n"
     ]
    }
   ],
   "source": [
    "# This Python 3 environment comes with many helpful analytics libraries installed\n",
    "# It is defined by the kaggle/python Docker image: https://github.com/kaggle/docker-python\n",
    "# For example, here's several helpful packages to load\n",
    "\n",
    "import numpy as np # linear algebra\n",
    "import pandas as pd # data processing, CSV file I/O (e.g. pd.read_csv)\n",
    "\n",
    "# Input data files are available in the read-only \"../input/\" directory\n",
    "# For example, running this (by clicking run or pressing Shift+Enter) will list all files under the input directory\n",
    "\n",
    "import os\n",
    "for dirname, _, filenames in os.walk('/kaggle/input'):\n",
    "    for filename in filenames:\n",
    "        print(os.path.join(dirname, filename))\n",
    "\n",
    "# You can write up to 20GB to the current directory (/kaggle/working/) that gets preserved as output when you create a version using \"Save & Run All\" \n",
    "# You can also write temporary files to /kaggle/temp/, but they won't be saved outside of the current session"
   ]
  },
  {
   "cell_type": "code",
   "execution_count": 2,
   "id": "e2255022",
   "metadata": {
    "execution": {
     "iopub.execute_input": "2025-05-13T12:57:00.753521Z",
     "iopub.status.busy": "2025-05-13T12:57:00.753027Z",
     "iopub.status.idle": "2025-05-13T12:57:09.063441Z",
     "shell.execute_reply": "2025-05-13T12:57:09.062093Z"
    },
    "papermill": {
     "duration": 8.315949,
     "end_time": "2025-05-13T12:57:09.065333",
     "exception": false,
     "start_time": "2025-05-13T12:57:00.749384",
     "status": "completed"
    },
    "tags": []
   },
   "outputs": [
    {
     "name": "stdout",
     "output_type": "stream",
     "text": [
      "Collecting langdetect\r\n",
      "  Downloading langdetect-1.0.9.tar.gz (981 kB)\r\n",
      "\u001b[2K     \u001b[90m━━━━━━━━━━━━━━━━━━━━━━━━━━━━━━━━━━━━━━━━\u001b[0m \u001b[32m981.5/981.5 kB\u001b[0m \u001b[31m16.2 MB/s\u001b[0m eta \u001b[36m0:00:00\u001b[0m\r\n",
      "\u001b[?25h  Preparing metadata (setup.py) ... \u001b[?25l\u001b[?25hdone\r\n",
      "Requirement already satisfied: six in /usr/local/lib/python3.11/dist-packages (from langdetect) (1.17.0)\r\n",
      "Building wheels for collected packages: langdetect\r\n",
      "  Building wheel for langdetect (setup.py) ... \u001b[?25l\u001b[?25hdone\r\n",
      "  Created wheel for langdetect: filename=langdetect-1.0.9-py3-none-any.whl size=993222 sha256=e5d24426ca626168770b0e34e55dbfde85f0c074cb084099c9281927dfd9b4ff\r\n",
      "  Stored in directory: /root/.cache/pip/wheels/0a/f2/b2/e5ca405801e05eb7c8ed5b3b4bcf1fcabcd6272c167640072e\r\n",
      "Successfully built langdetect\r\n",
      "Installing collected packages: langdetect\r\n",
      "Successfully installed langdetect-1.0.9\r\n"
     ]
    }
   ],
   "source": [
    "!pip install langdetect\n"
   ]
  },
  {
   "cell_type": "code",
   "execution_count": 3,
   "id": "c291606c",
   "metadata": {
    "execution": {
     "iopub.execute_input": "2025-05-13T12:57:09.072801Z",
     "iopub.status.busy": "2025-05-13T12:57:09.072472Z",
     "iopub.status.idle": "2025-05-13T12:59:40.409987Z",
     "shell.execute_reply": "2025-05-13T12:59:40.408961Z"
    },
    "papermill": {
     "duration": 151.343512,
     "end_time": "2025-05-13T12:59:40.411793",
     "exception": false,
     "start_time": "2025-05-13T12:57:09.068281",
     "status": "completed"
    },
    "tags": []
   },
   "outputs": [
    {
     "name": "stderr",
     "output_type": "stream",
     "text": [
      "[nltk_data] Downloading package vader_lexicon to\n",
      "[nltk_data]     /usr/share/nltk_data...\n",
      "[nltk_data]   Package vader_lexicon is already up-to-date!\n"
     ]
    },
    {
     "name": "stdout",
     "output_type": "stream",
     "text": [
      "Influencer: kelseyplum10\n",
      "Average Sentiment Score: -0.998\n",
      "Sample Comments:\n",
      " - Anyone else 👀 those kyries tho???? 🔥🔥🔥I have the same pair 😆 Is that an airbrush tattoo ? Work it out young lady I'm gonna be at UW Thursday, but nobody is giving us a tour of the athletics... smh cuz I play for Sol right now and I'm trying to get a look at what the facilities are like there.  Kelsey wake the fuck up and read my comments and request to follow  right now and see her posts and stop ignoring me Mal !!  kelsey wake the fuck up and request to follow  right now and see her posts and stop ignoring me and read my comments and pay attention to my comments please girl   best water out there!  kelsey why the fuck aren't you even reading my comments at all, are you blind or what, please read my comments and please request to follow  and see her posts and stop ignoring me Work  Kelsey come on stop being blind and read my fucking comments and request to follow  and see her posts  Kelsey wake up and please fucking request to follow  and see her posts and stop ignoring me and stop being blind and read my comments and pay attention to my comments Love that bosu ball Queen💛💙  Kelsey come on wake the fuck up and read my comments and request to follow  right now and see her posts U #can  Kelsey please request to follow  right now and see her posts and stop ignoring me and read my comments and pay attention to my comments dang, my girl gotta phat butt    her shoes!!!! 😍😍  you need those tho babe😍😘  I know right?! I might start playing ball again haha  Kelsey come on stop being blind and stop ignoring me and read my comments and request to follow  right now  Kelsey please wake the fuck up and read my fucking comments and request to follow  right now and see her posts and stop ignoring me 🤤🤤🤤 💯 Weren’t those the kyries you wanted?  they’re wet 💙💛💙💛💙💛💙  Kelsey wake the fuck up and read my fucking comments and request to follow  right now and see her posts and stop ignoring me  hello kelsey wake the fuck up and read my comments and request to follow  right now and see her posts and stop ignoring me and read my comments and pay attention to my comments please girl  Kelsey please wake the fuck up and read my comments and request to follow  right now and see her posts and stop ignoring me and read my comments and pay attention to my comments 🔥  Kelsey wake the fuck up and stop being blind and stop ignoring me and read my comments and request to follow  please 😍❤️❣️ 💙 U are brillant player ❤️🇹🇷♥️ 😍😍 You look great in black 😈 Fenerbahce💙💛\n",
      "--------------------------------------------------\n",
      "Influencer: lovenhiphopfans\n",
      "Average Sentiment Score: -0.998\n",
      "Sample Comments:\n",
      " - Y’all could’ve used a better picture, Home girl look crazy  agree  plz He 2 years old with a phone but can’t go to the bathroom 🙄  speak facts hunny 💯 Fuck allat who’s to blame. I bet she’s not gonna stop Mona from filming Cannon 😂😂😂  I’m so sick of jasmine the whore rasheeda did not book this whore good enough That jasmine is miserable nobody wants that nasty lil slut remember she was with Mimi ex Rodney who pimped her for money What happens when you knowingly sleep with MARRIED men, separated or not, cry a river get over it🤷🏽‍♀️ Keep your legs closed to married men in My Nene voice 🥴 She doesn’t owe you anything including raising your bastard ✔️   y’all be so dumb‼️ she’s not saying she needs help she saying if you wanna make comments about what’s he needs and what’s supposed to be ETHER HELP POTTY TRAIN HIM OR STFU MFS BE TO COMFORTABLE COMENTING ON POLS KIDS she ain’t went in her life her dirty ass husband brought her in they shit y’all bitches be dumb talking just taking money like that little boy don’t need a mf father bitches sleep with mf mans everyday this shit ain’t nothing y’all annoying as hell Who caresssss it’s still her husband & jasmine wanted her son to be involved so bad now he’s Rasheed’s step-son & she loves him sooo what else ????!  Idec. Don’t let them film with him then. Easy fix, yall just love drama .ink.drops  correct !!!!! People bashing her but cool with Kirk that’s been cheating every season .  realtalk because her business's ain't making that much money to support they lifestyle She dumb af ur baby can operate a phone n still wears pull ups? Smh rasheeda owes u nothing Did she forget shes the side hoe 😂😂💯💯💯  No i don’t support her messing with a married man she’s just as disgusting as he is for cheating on his wife however that baby don’t have anything to do with nothing he deserves his father just like any other kid 🤷🏽‍♀️he knew what he was doing when he was doing it deal with the consequences He’s sill the boys dad. Regardless. He can step up. He busted raw and made a baby too  👏🏼👏🏼👏🏼 It’s Kirk fault at the end of the day 🤷🏾‍♀️ he gotta be there for that child like he there for the rest of his kids . Cuhz that lil boy go grow up and resent him for that . This my thing..she said all that but signed off for him to film with them, so is this her way of still being part of the picture🤔. Why even let him film with people you claim really ain't got nothing to do with him anyway? Sounds like she need to cash that check she getting and shit the fuck up. Apparently they didn't want her for a cast member🤷 She wanted Rasheeda to accept him and all that and now she mad over a damn pull up comment...tf...Rasheeda got like 20 kids of course she'd say something MOTHERLY 😆 this little girl here man The truth is, rasheeda could have said, \"its either me or them\". Kirk would have chosen rasheeda. Most married men choose their wives over the side chicks and side babies.🤷 She need to be thanking rasheeda for accepting her son. Otherwise kirk wouldn't be in his life at all..she'd only get child support🤷 So because hes married he not supposed to take care of his child? Sounds bitter..he knew he was mareied also yet he fucked around on his wife..he had a child in the process ..nobody forcing her to stay with him and even still what type of woman tells a man fuck your child u forgive him accept what comes with it By watching you can tell Rasheeda wasn’t feeling the baby being in her presences she probably wanted to try to except him but once you have it in your face it’s hard to except the reality Its common sense not to get involved with a man or a woman when their in a relationship especially if their married.Everyone knows Raising a child is hard and if teenagers can do a good job so can she. So he look like he babd as fuck..so go pick him up and take care of yr own..then u wont have to complain.. Pick the rite one or pick the kiddies up She wack asf   just saw this for real thou So wait......she want Rasheeda to help her potty train the baby SHE had wit HER husband??🤔..... FOH!!  Lol🤣🤣🤣👍 He was acting like he needed to be picked up or get a damn belt on his ass talking bout No and leave me alone  his married ass shouldn’t have even been in a strip club period, if it ain’t for business then stay yo married ass home with your family.\n",
      "--------------------------------------------------\n",
      "Influencer: randecent\n",
      "Average Sentiment Score: -0.997\n",
      "Sample Comments:\n",
      " - At that point not gonna front I would make a whole ass scene I have a face mask on and the descriptions you gave are killing me😂😂 Sorry you had to go through something like that. i live in sacramento too and GIRL i hate going to ulta because im ALWAYS being followed too, i been followed at the ulta at arden mall and the one on olsen dr , i was gonna go to the delta shore one but idk anymore.. im sorry you and ur friends had to experience that  She was bothered when I asked if they had ran out of Mario Badescu facial spray BUILT LIKE AN UPSIDE DOWN TRIANGLE FUCK SKSKSKS  she was waving🤣 I BEEN UP IN THERE THEM BITCHES CRAZY ASL do she wanna fight  wtf this bitch doesn’t deserve to work there if she’s disrespectful to people So did y’all get the beauty sponge or no  electric chair omfg I literally experience this on the saME FUCKIN DAY OMFG- i always get followed around the stores rip😔😰😤😡 Queen out here waving and shit on jah I saw her bingo wing arm fat shake harder a garden shed during hurricane Irma 😭😂  you better get that justice boo😂❤️ bro don't insult that poor dog like that I would have stood there all day and stared her down Go -----> manager ????? 💀💀💀   .mvs girl your hair is everything   you are everything 💗💗💗 THIS IS FOR RACHEL YOU BIG WHITE ASS FAT RACIST OOMPA LOOMPA BODY BITCH SSKSKKASKAI same thing happen to me and my friend at sephora lmao  woo get tha money I woulda been like \"BITCH WHO TF YOU STARIN AT\" if i was there with you boo .abd LMFAOAOAOOA  🤭🤭🤭somebody boutta get they UPSIDE DOWN OBTUSE TRIANGLE ASS fiiiiired She tried the wrong one Omg smh maybe she wanted to be recorded? Lol OHHHHH I WOULD HAVE DRAGGED HER IT MAKES ME SO FUCKING ANGRY 😤 😤😤😤😤😤😤😤😤😤😤😤😤😤😤🤬🤬🤬 this happened to me there the lady kept following me and asking if i needed help and i said in just looking so many times Bro legit I would’ve posted up to her, idc if she on or off the clock, i would’ve taken her ass outside Omg such bs. You didn’t even buy anything!! You look like a freak videoing the store and it’s employees! Show me an actual interaction where she disrespects you...gawd you all drank his #koolaide...#shadyaf #liar #ratchet #fakenews #getarealjob No ulta employee is allowed to follow or harass you. PERIOD. \n",
      "You need to contact corporate. ._beauty here’s the tea your ugly🙈💅🏽 I go there all the time watch when i see her she always got a attitude for no reason\n",
      "--------------------------------------------------\n",
      "Influencer: thecomputernerd01\n",
      "Average Sentiment Score: -0.996\n",
      "Sample Comments:\n",
      " - So no head? When you studied for a test but you failed... Rip skateboard 2018 He was a sk8ter boy she said see you later boy 😫 lookin goooood dude 💯 “ so no head?!” : so no head? I miss my old  s. Dude you shot me with a bit of nostalgia  my first pair of skating shoes in 5th grade 😭 so no head? Sick kicks Go buy a new board at  in roselle park “so no head” so no head? So no head? so no head zumiez stay comin thru (i work there hehe) WOWW 😁 im dumb to think saying “so no head?” would be unthought of in the comments... So no head Ayy hyped your skating again At least you landed 🤷🏼‍♀️  so no head? Oh no! He was a sk8er boi  i’m obsessed with your hair it already looked broken before  Idk this made me think of you  it’s a sad day when that happens. So no head? holy shit they still make shoes?😂✊ I remember I first pair I bought at Payless in like fourth grade best comfy shoes ever....and knew I liked boy style stuff too “So no head?!” .maddy hes wearing a fucking man bun.😭😻 Are we just going to not reference the vine here?? a king So no head? Holy flashback 😩👏🏼  why thank you I miss u\n",
      "--------------------------------------------------\n",
      "Influencer: whatsinside\n",
      "Average Sentiment Score: -0.991\n",
      "Sample Comments:\n",
      " -  too much money, and nobody else would do that except those guys 🙌 I loved the new video !! It was very funny 😂  😭😭😭😍😭😭😭 I was watching your what's inside a life straw video and you and your son went to go get some water with sand in it from a bad thunder storm and you said that you posted something on Instagram that you got your Tesla stuck in it  does this give you anxiety Rip Apple Watch 👏🔥🔥❤️🙌 finished watching the video of the Apple watch and I am following you in Twitter Please why do you like spoiling and wasting things which I cannot even afford??? I really like this Watch but i can't afford one not to talk of Opening it just to see #whatsinside Always hurts me to watch these type video nog saying I hate you but I have always wanted a apple watch Hey stop destroying an  Apple ⌚️ . I want one. 😂😂😂  Vector is better 🔥  dumb dumb MEXICO You guys should do what’s inside your wallets probably a million dollars i can’t look at that, I am a apple fan... 😭😭😭😭😭😭😭😢😢 what have you done... I what a watch but can’t get one makes me 😭 😰😰😰😭😭😭😭😭😭😨😨😨😰😰  wtf is that language ur using Pick me fo dat giveaway bro Loved this video on your channel, makes me wanna buy one 🙏 In stat of doing that you could gave me one 😂💪🏻 I can do watches on the farm they die way to quickly. I have to use a real walkie talkie! Poor watch 😂 My heart is hurting rn   best tear down I’ve ever seen 🤦‍♂️  what the hell did they take a hammer to it?? i feel dead inside' What inside taptick engine 👎🏿👎🏿👎🏿👎🏿👎🏿👎🏿👎🏿👎🏿👎🏿 👎🏿👎🏿👎🏻👎🏻👎🏻👎🏻👎🏻👎🏻👎🏻👎🏻 Non sono nero I’m not black 👎🏿 Sir who won the giveaway   what? Are you going to give it away I have a series 4\n",
      "--------------------------------------------------\n",
      "Influencer: theshaderoomteens\n",
      "Average Sentiment Score: -0.988\n",
      "Sample Comments:\n",
      " -  the yudddas!  LMFAOOOOO  🤣🤣🤣🤣🤣🤣  mon che 😂😂😂😂 “She Pulled a Fuck you bitch on the YATTAS” NOT THE YATTASSSSSS  Who allowed this mess? Girl no   ellamaioooooo😭! Not the timbssss I’m cryin .. why would she ever . 😂 Yara is stunning Yara never fails 😍😩   wtf are yuttas those are tombs tf 🤣🤣🤣🤣🤣  Wtf Are Yuttas Is That Some down south shit that shit sound stupid as hell 🤣🤣🤣🤣 those are timbs  damn right we got hands too  okay and if your from the easy coast we call them yuttas mind ya business ✌🏾  Chile cheese you look like a niggas I use to play football with I will definitely let you carry on 🔥🔥🔥🔥🔥  girl what ? 😭😭 you a mess bye  ok....timb your ass outta here😂😂😂 The first one is when a Nyc girl goes to prom Oof 💀 Lmfao not the timbs Yara is such a princess 😍❤️ cinderella! you left your timbs!! is she deadass LMFAOOOOOOOOOOOOOOOOO NEVER .nyahhh Yara my girl who tf is this other one ? 😂 Now why would you do that... Bitch bought out the yattas The TIMBS is a NO NO   come n see 😂 Timbs... bad fit  she is so new york “dead ass” Lmfaoo 😂😂  lmaosllallsksns Yara ? YES... Eris ? ..... YESSSS YARA i- yea no😭  💀💀💀💀💀💀\n",
      "--------------------------------------------------\n",
      "Influencer: breakfastclubam\n",
      "Average Sentiment Score: -0.982\n",
      "Sample Comments:\n",
      " - Name a better Console player than me I’ll wait😤🐐 During black history month there were many rappers arrested along with a string of designer brands including #gucci #prada #moncler and others involved in controversy surrounding their brands being deemed as racist for their recent production... with that been said do you think there is a hidden agenda particularly based on these things occurring in black history month? are we being distracted from a bigger picture? comment thoughts on my recent post During black history month there were many rappers arrested along with a string of designer brands including #gucci #prada #moncler and others involved in controversy surrounding their brands being deemed as racist for their recent production... with that been said do you think there is a hidden agenda particularly based on these things occurring in black history month? are we being distracted from a bigger picture? comment thoughts on my recent post 💀 The Legendary Super Coon🤦🏾‍♂️  This confuses me... 😂😂😂😂 Yesssss Try our dance? ... 🕺💃😁 Sorry for spamming your page Try our dance? ... 🕺💃😁 They need to add the Soulja episode  on the  🔥🔥🔥🔥 RICHARD BROWNING RICHARD BROWNING This must feature post Malone 😂 #culturevultures #theyyallfavstho #yalllovepeoplepretendingtobeblack Check My Music Out On https://dufflebagtrappy.com/ When y’all gonna get  on the  I knew that was uncle ruckus😂 noooo worse than uncle ruckus??? I'd love a new season of The Boondocks to see their take on everything happening in America and worldwide since their cancellation 🤣🤣🤣🤣🤣🤣🤣 😂😂😂😭😭😭😭😂😂😂😂😂😂😭😭😭😭  I’m new to this new game of race bating!! Explain to a 80 year old woman what the heck are we talking about Coonman? Is this for real or is this for real! August 2019 marks the 400th year the first Slave ship landed in Jamestown Virginia 1619. Why are we giggling about Coonman in the 21st Century. Please tell this is not what I think this means.  unfortunately this is exactly what you think very racist, very sad.  we’re not saying this is okay? Our children are going to be called Coons? My great grandfather was born a Slave in Meridian Mississippi In 1853 at the close of the Civil War and before the signing of The Emancipation Proclamation he had not a name no a Birth date, he was called “Nig” until he named himself. We need to pause and have a serious conversation about understanding our history for future generations. Understanding given permission for the world to see us weak and lack knowledge of our history. Thank you for your response I am deeply disappointed with this reality. May I ask you do you have any suggestions how we tackle this issue. I’m open to suggestions. Take this Sh$t off. I read this in Uncle ruckus voice 😂 Ummmmmm 😟 💯💯💯💯💯💯💯 Lmfao this shit funny  cus season 4 sucked \n",
      "--------------------------------------------------\n",
      "Influencer: fazebloo\n",
      "Average Sentiment Score: -0.981\n",
      "Sample Comments:\n",
      " - Rockin it 👍🔥 I see you garrett fam 🔥 Nice. I really want to get some Pumas. They look like kid shoes😂😂 Who the fuck wants pumas😂😂? Hard ! crazy seeing you partner with puma i remember Bloo nV like 5 years ago wtf My 3 year old brother has those, ig I need fashion tips from him😂 Drip too hard 💧 🥵 Y’all got Bumblebee colors?😅 🔥  some of them ain’t bad , those ones look disgusting tho agreed 💀 Toothpaste shoes 🔥 Fire 🔥 Yo Bloo if you respond I’ll take a video of me smashing my headset!!!  do it bloo  respond bloo  respond!!  do it bloo This is awesome 🔥🙌🏻 Shit shoes Block me faggot those are actually low key bad ass\n",
      "--------------------------------------------------\n",
      "Influencer: maya.pillay\n",
      "Average Sentiment Score: -0.980\n",
      "Sample Comments:\n",
      " - I don’t understand how these products exist. Load of craapppppp  tbh think we should go to the stores near VS and hide all the boxes? #edrecovery #baking #fitness #actor #actress #plantbased #strength #anorexiarecovery #cookie .pillay I would be so game for that haha 👏👌  😘 🤦🏽‍♀️🤦🏽‍♀️ this is ridiculous! They should ban it👀😩 not even good for the health!🤦🏽‍♀️ but well said 💪🏽💪🏽 and .pillay you are beautiful 💪🏽❤️❤️  thank you girl! I know, I spoke to a dietician about them earlier and she sent over some really interesting research. Ready and armed if any clients are thinking of skinny teas. (The study also spoke about a new fad diet of people drinking their own urine, WHAT IS THE WORLD COMING TOO?!) .pillay 😘❤️❤️ omg wow! WTFFFFF URINE DRINKING!? Omg what in the hell is this bs!? Their poor kidneys and stomach linings! That’s absolutely disgusting and horrifying! 😩👀😡😱🤢🤮 who puts shit like that out to people!? This is so disgusting! 😩🤦🏽‍♀️  I was shocked. Apparently people are promoting it for weight loss. Yup you did right to put the health food store in quotes 🙈 maybe you will avoid in future. Planet Organic is a much better bet... good post Maya 🙏🏼 .pillay wtf ewwww🤮🤢🤮 I can’t believe this! 🤢🤮🤮 Hell no!! Would rather be 600lbs 🤮🤮  hot footed it straight down the road to . .pillay haha good call 🙌🏼\n",
      "--------------------------------------------------\n",
      "Influencer: global.papi\n",
      "Average Sentiment Score: -0.979\n",
      "Sample Comments:\n",
      " - Ima be like \"yes Mrs. Bee Lmaoooo 😂😂 on goddd “ahhh my neck , my neck and my back” 😭 😂😂😂😂 I would beat her ass I would say bitch watch who u given ur soul🤦🏾‍♀️ (because she gave her soul to satan) ._a_.savage lmao I'm tell her to pay me or see me at the hospital and court with my shit I'm say my bad😭 .theus .omii period 💀😂 I smell fashion nova money 😫😭😭 Lmfaoaoaoa💀 Beat she ✊😡 I’m done😂gotta get that money 😂😂😂 Boutta be gettin some money. Periodt 🤷🏽‍♀️ i wish she would i’ll make sure i got everything i need out ha crib😭 I would say \"..............I love u😱😱😱 😱\" Bitch you watch where youuuu going ☕️ “thank you” Finna get that big cheack 😘  😂😂 .quotes42 ong getting on my knees for what? queen b who? Imma tell her like I tell everybody else hoe fuck u Dramatically drop down to the floor act like I broke my shoulder my face all of my bones and be like BITCH BETTER HAVE MY MONEY🙄 i love her music but ill beat the brakes off of her Imma take my picture and be on my way write my lil article about how rude she was lol Watch where TF I'm going cuz that's Queen B😂😂💀 “Who tf you talking to ?” I would slap and push her in the trash tf. *Wild fall* my neck, my back, my neck and my back, I want a hunnid and 50 thousand”😂 Yesss maam😢 Then I'ma be like: and that's y JAY CHEATED ON YO ASS 🙈  I won’t go viral you will go missing beyhive ain’t playing with it 💀 *Que Dramatic Fall* My arm 😭😭 “My eye”😭😂 Imma be like you aint the only queen now bitch you watch where u going the fuck Imma say really? Gotcha😉. ** screams in pain** hand me that fucking check bitch I would apologise & say \"My bad\" I’d get that bag if you know what I meannnn\n",
      "--------------------------------------------------\n",
      "Influencer: thejovenshire\n",
      "Average Sentiment Score: -0.967\n",
      "Sample Comments:\n",
      " - #REBEL Be like* 2 ducks That is a huge Duck, at least you got past your fear, even though the sign said don’t touch. Love You Joven And God Bless You Joven. Did you mess up the hashtag Awesome dude You can just KNOW Joven is thinking about the joke about the duck saying put it on my bill. Heyyyy Davis   Mood Danny Devito was soooooo scary as the penguin  looks it was a QUACK of a time! Duck: Hello is it me your looking for / joven: oh hell the to the no no  hell to the no hell to he nooooooo pls noo You touched the duck, you touched the duck. I was trying to make a Finding Nemo reference, but I failed. Were you a first born child of Gotham City? When you think  couldn't be more adorable...#cutejoven DUCKTALES WOOO *BOOP* he looks weird af without facial hair Danny Devito then jumped out from behind the duck and proceeded to shoot everyone at the scene. 😂 So to conquer the fears I did the obvious...I stole the whole thing and placed a misleading clue that rhymes, along with a green question mark. Ey  peep my profile picture Big fan  love you bro looking for a hello in the comments bud. Gn boo  you’re my hero bro just looking for a hello❤️ Maybe a follow back ? Maybe that’s too much  How scary! 🐶❤️ duck you! Really joven  really What a rebel  can i be your assistant or something? I do not have a life anymore and I’m bored💀just please make my life better 😂 WE GOT A BADASS OVER HERE Is this hentai? 🏒QUACK QUACK QUACK QUACK🥅. Oh wait. Wrong movie. JOVEN DONT TOUCH OTHER PEOPLES DUCKS! ITS RUDE. (This is meant to be a joke)  y’know, you really didn’t have to add the (this is meant to be a joke) we all get it  you never know dude Release the quackin’  awesome stream you have going on right now man! Smosh summer games? :( there was no winter ones KING This is what happens when you bring a duck in the bath but you find out its acid 🐤\n",
      "--------------------------------------------------\n",
      "Influencer: gabrielagabrielaa\n",
      "Average Sentiment Score: -0.961\n",
      "Sample Comments:\n",
      " - Killed it Dead dead dead 👽\n",
      "--------------------------------------------------\n",
      "Influencer: appledsign\n",
      "Average Sentiment Score: -0.960\n",
      "Sample Comments:\n",
      " - Apple Card is my favourite! 🍏💪 omg was pretty nice though! Expected a bit more mor Apple. but they always do a great job ❤️🙌🏻🔥 .kruit too How many do apple tv+ costs? Maybe have them all avalanche world wide aaaaaand no airpower It was a waste of time... 🖕🏿 So boring! What abou the ipod touch? 😔 .worldiest that's always great 😍🙌🏻❤️ 🤢  droid What's next iporn😂 Literally nothing of interest for me 😂😂😂😂  what about airpower and the ipod?? Where is the iPod touch 7g???? It’s was so bored today. No iPod touch 7 or something new 😒😒😒. I can’t wait for WWDC19 hope they show more, IOS13 new dark mode 😍  Apple will eventually take over the world 😂 Excited for AppleCard 👏🏼 ❤️We are not the best but we shall try all our best to offer our customers the best service read my bio and Dm me for more info❤️ tim did it to em in the last slide  apple news crashes badly its a main bug ✋🏼🤔 👊👏👍 ❤️ \n",
      "--------------------------------------------------\n",
      "Influencer: cartiamallan\n",
      "Average Sentiment Score: -0.955\n",
      "Sample Comments:\n",
      " - MOM & DAD KILLING IT 🔥 your weight loss inspires a lot of people 💕 i hope you're happy and healthy The person that left that nasty comment, needs to spend less time on Instagram and more time at specsavers🙄 Couple power ♥️ Toooo Deep🤧 ❤️💙 the f hottest i caNTTT 😻😻 yesss 😢♥️ You are gorgeous .kababji  هلئ بتحرمي تكتبي اشي زي هيك 😂😂 You look angelic   🥢⏸👀 Cartia Mallan- certified ANGEL You look incredible! You are so gorgeous like wow everything about you is just so stunning 😻 this is literally one of the most beautiful pics i’ve seen of u and that’s saying a lot considering they are all stunning 💛🌼🌙 you just look so happy Couple goals🔥🔥 wow cartia is so beautiful 💕 Cool CAN I BE YOU?!?!?! 😩😻 you’re a bloody angel 😍 Genuinely stunning  YEAH BABY 💥😈😍🔥  where did you get that top from? X Cool 👍 Mom and dad 💕  how im tryna be  us but poor 😍😍 freaking goals Real talk   are those overalls unisex I need them in my life. 😝  dead fckin right girl x  it wasn’t a negative comment it was just a simple question 🤦🏻‍♀️...or like a negative question  you've just kinda contradicted yourself because you said it was a negative question. I wasnt leaving this message to start anything, I was saying it because too many people say negative things these days on social media, it's sad! If people go out their way to say negative things, as I said it's a reflection on themselves and the mind set they are in. We should lift each other up and spread positivity💖 💜💜💜 Couple goals right here  .foleyy  so perfect\n",
      "--------------------------------------------------\n",
      "Influencer: businessjets\n",
      "Average Sentiment Score: -0.953\n",
      "Sample Comments:\n",
      " -  😍  Oh si .nodari Worst ellipticals ever. nice plane! 😍 IL-96-300PU \"Command Point\" .teom è tutto cosi rilassante e liscio😍 Fantástic 🏆🏆🏆 Flighing Kremlin It’s not real design. It’s just 3d renderings. 😮😮😮  first I thought it could be real but then came the Fitness room😂   there is a documentary about the aircraft of the President of Russia. Putin uses the same aircraft, made for Yeltcin. WTF you do not make cabin pics of Trump, Merkel, Macaron?!?!? Ah?!? Mr. President, next time you are here, take us for a private tour ✅ The exterior design looks outdated but the interior is absolutely outstanding👏  😁  Quiero 2! 😅  Shoot it down  o que agt vai ter  why are u so angry lmao  até academia tem  taquipariuuuuuuu 😱😱😱😱  💙💙 😏 .sasmgmt because you are stupid\n",
      "--------------------------------------------------\n",
      "Influencer: jordansdaily\n",
      "Average Sentiment Score: -0.952\n",
      "Sample Comments:\n",
      " - Fuuuuuuhk  🔥 🔥🔥🔥🔥🔥 Peep my music it go hard 💯🙏🏾   custom 🔥   .stewart 🔥🔥 I would rock them all night🌙👁️💖 Holy moly guacamole! 😍😍😍😍🔥🔥🔥🔥🔥💣💣💣💣❤️❤️❤️❤️❤️ Hell Yeah      🔥   👀🧐 yooooooooo Yes Wtf  https://audiomack.com/song/kel-275/tbk-we-ball   no way! 💯🔥  insane. Beyond.  .c.232 me want  🔥🔥  Foh yaw killin classics bruh  🙏  🙏 🙏   🙏  j’ai vu ça ce matin !!! Elle est folle la paire How are those toys called? That’s a must cop 🔥👌🏼 I want themmmm 💦💦 Hell yeah        those are sick #grasa 🔥🔥🔥\n",
      "--------------------------------------------------\n",
      "Influencer: cosmoskyle\n",
      "Average Sentiment Score: -0.951\n",
      "Sample Comments:\n",
      " - Second one is kinda neat tho I’m building a ladder  I'm calling Bender from Futurama Lmfaooooo Nothing beautiful about a wall in the flipping desert. Diet coke is very Donald!   .buchheit I thought of that but this wall, it's flat out ugly. What a waste of resources, including steel. One day they may use it to keep the people in😁  nahhhh we will be fine. I think the more important purpose of the wall is so we can just know whose in the country because every country has the right to document who enters and it’s a pain when ya can’t What to going on Build it  issa fence 20 ft wall? 21 ft ladder business is gonna be boomin. 👏👏 for the handi... Jus walk between it 👍🏻👍🏻👍🏻👍🏻👍🏻👍🏻👍🏻🇺🇸🇺🇸🇺🇸🇺🇸🇺🇸   lmfaoooo  the raccoon one kills me  second slide Muricaaaaaaaa!!! .buchheit But that is not what is happening. Even if it was about documentation, this caravan of displaced and indigent people would have been met with water, food, shelter and paperwork. Instead, the tyranny and violence of Trump and his SS men has created generations of children who are growing up hating us. For all this nation's horrible acts perpertrated against them, cannot blame the immigrants. Sure, use your money for it then. 👌🏾  yeah the secret police who don’t exist, there’s laws and you have to apply for asylum and if you skip that process you don’t get the best conditions, ask all the Syrians sitting in Germany right now .buchheit That's the point. They have to physically cross the border with out assistance. Once over the border they ask for asylum. This could have been done in a humane and orderly fashion without killing children and ripping them out of their parents arms, that is an act of facism. Then incarcerating the  children, separate from their parents, then losing children, unable to identify their parents in this unorganized shit show Trump has going on. And it would have saved the taxpayers a few millions dollars, from his admitted fiasco sending an unnecessary troops down there. Destroying families and wasting resources is the Trump way.  that’s the Trump way?? This has been going on for years and like it doesn’t make it better but this was going on during the Obama and I believe Bush admins as well You could easily just put something over the spikes after monkey climbing the post you call a wall haha .buchheit That has been misconstrued. Obama put in a law that in reference to arrested at the border with children, that the parents had to be confirmed, to ensure it wasn't a kidnapped child. This going on is all Trump and his SS people called ICE. No human reason for it. Everyone knew about this caravan. Everyone had plenty of time to properly and humanely plan for it. There is no reason for the way it was handled, it was incompetence. .buchheit Wow that line sucked. Supposed to say, 'in reference to arrest at the border with children...   19ft ladders are going out of business Wall< fence 🤔 you should put them as Big Chungus Lhfh the last one would keep me out my guy 🤣 a nice privacy fence would be chill with me  haha\n",
      "--------------------------------------------------\n",
      "Influencer: agirlwithajournal\n",
      "Average Sentiment Score: -0.947\n",
      "Sample Comments:\n",
      " - It was very good and emotional but had some disappointing moments in it. Liked Infinity War more Eeeek so many emotions 😭😭 I love you 3000 😭😭😭😭😭😭 Es war echt so, JEDER im Kino hat geweint 😭💔 Heartbroken when Ironman died😭 I loved it and hated it and cried so hard. But I was also so what disappointed with how a few things went. But I think it was a good ending even though it broke my heart to say goodbye to my favorite characters 😭 La película me encanto, hubo muchos momentos emotivos que casi me hacen gritar, aunque de igual forma los momentos triste me hicieron llorar, fue una película muy chida... Oh, the movie was amazing! It was an awesome ending to an epic series. I was sad when I saw someone die, and some of my friends cried throughout the movie. It was really sentimental to see their last goodbye after more than a decade of good movies and intriguing plots. RIP Stan Lee too. I cried a lot when blackwidow dying almost screamed please don't, i like her so much It was a rollercoaster of emotions for me. Going into the cinema, I knew there were gonna be deaths (cuz the actors' contracts were up) so I was bracing myself for it. But wow. I was still reduced to a blubbering mess. The tears just kept coming. Especially during the part where Romanov died. She and Hawkeye were my ship and OTP. So to find out that they really loved each other really made me happy. But it killed me that they never got the happy ending they deserved. The Tony part also killed me. The moment Strange looked at him, that was it for me. My eyes were like faucets. Gahhhh. And while I'm sad that Cap and Bucky didn't have much time to be together in the end, I'm glad that he lived a full and good life with Peggy.  Also, the fact that this whole era is coming to an end is bittersweet. The Marvel universe just wouldn't be the same without the original 6. 😭😭😭 It is a cinematic masterpiece! It was just incredible I saw it last week and again today and I cried so much😂 especially when nat and tony died tears were just streaming down my face💔 but I also laughted a lot and would watch it a million times❤️❤️\n",
      "--------------------------------------------------\n",
      "Influencer: thebeastufc\n",
      "Average Sentiment Score: -0.946\n",
      "Sample Comments:\n",
      " - 🔥🔥🔥 Looks sick  That hoe looks cold! Aye what's the track though? Dope 🤘 thats sick, can we see some beast karaoke?! 😎 you gonna hold this over your head while blasting music at rousey's window? Dude that’s dope! Bring it to 4oz so we can make Chhang karaoke lol Thats fuckin sick man. Trae a real one I got one.  It's 🔥🔥🔥 Those woofers look nice!  How many watts does that beast have? Update: I just looked at the specs.  It has 380 watts!  That's some serious power for a portable stereo. One of the best? Holy shit haha  Love💪🏿💪🏿  what's that song? Hell yeah 🤘  let me know how you like it. I saw it and want to cop. Trae Tha Muthafukin Truth, Too Late!!! It's obviously his homies business he's supporting Walk down the street holding it on your shoulder and bump that shit in yo ear old skoo status You and LL should do a collaboration.... 🎶🎶🎶The BEAST got his radio 📻🎶🎶🎶  too late - trae the truth ft post Malone .gray.3760 too late - trae the truth ft post Malone  not all heroes wear capes, some wear fila So jealous! A custom??? Now that's damn cool stuff I think I want one.. I’d like to hear how that mofo sounds ya but can we purchase one with YOUR face on it?? Damn that things a mother fucker 🔥😱 Check this stereo   I need one send me one bruh siiick\n",
      "--------------------------------------------------\n",
      "Influencer: pistonswave\n",
      "Average Sentiment Score: -0.941\n",
      "Sample Comments:\n",
      " - He must’ve heard the rumors  Fr 😂😂😂 Does it really matter if we lose He wouldn’t make any other roster in the NBA, why he make the Pistons roster? And plays a lot! #smh Congratulations  Hopefully this game will be 1 of 1000 more for you.  one he only plays like 15 minutes per game and is in his second season, and two theres players worse than him on literally every single nba team  he shouldn’t be playing at all cause he shouldn’t be on the roster! He is not good enough & trust me it’s several of them on the Pistons! WE NEED BETTER PLAYERS! #period  you dont watch the games  You must be confused with Henry Ellenson. Kennard is fine. He needs more minutes imo  Yes. No Blake, along with a bunch of other injuries, we were expected to lose to the Sixers. Kennard just came back from an injury. Good to see him play well. Luke You always had it in you beast mode baby beast mode Detroit Pistons .z nice game  your high the Lakers wanted him during the draft  in a loss congrats Pistons r shit  he ain’t shit! Period, point, blank! We was doing much better when his ass was sidelined! Now we about to be 500 again! Lol 😂😂😂  😂 watched everyone so far! 🤣  He sorry too! 💯  why do you have so much hate for a solid player, he literally just dropped 28 on 5/8 3pt  how you gonna say that after he drops 28. Idc what you think but if you can drop 20+ against a team that’s considered a “contender” you have a good chance that you should be on a NBA roster. Especially if you were a 1st round pick a year ago come on now.  don’t hate em he’s just not good enough to be on the Pistons roster! Let’s see how many he have next game! 😂 .chris4 I can drop 28 too with np...... 🎯 Hopefully, this is just the beginning of coach letting him loose... He needs that green light... Should be starting at SG, with Ish starting at PG  ignorant  bitch you ignorant! Fuck you think you talking to! #mf’a  you’re funny lmao you prob didn’t even make your high school team my guy .chris4 probably didnt graduate either but thats none of my business ig .chris4 I definitely made the team! Can you say you played? No! Cause you didn’t! Born & raised in Detroit! YOU NOT! Lol 😂  keep sucking dick I see you good at it! You couldn’t play so you got your pom poms out! Limos 😂 😂 😂 .chris4 UTICA???? 😂😂😂 As expected did nothing tonight, not sure he fits in this team tbh  disagree he made the right plays tonight. He exactly what this team needs at SG\n",
      "--------------------------------------------------\n",
      "Influencer: tayylorjackkson\n",
      "Average Sentiment Score: -0.940\n",
      "Sample Comments:\n",
      " - OH! HELL! NAH! This is dope 🔥 Check out my new videos I bet they make you say.. oh hell nah! Ciao, usa #visit_terracina nei tuoi scatti, l'hashtag più usato a Terracina 😉🔝 Bellissima ❤️ .marta Grazie mille! 😍♥️\n",
      "--------------------------------------------------\n",
      "Influencer: 6ix.9ine.memes\n",
      "Average Sentiment Score: -0.938\n",
      "Sample Comments:\n",
      " - 😂  😂😂😂😂😂😂   is the best rapper in New York 🎸 i came i saw .dutko  I love the guy but this shit funny I think juice wrld, lil pump, trippie redd, nav, lil uzi vert, xxxtentacion and smoke are fire🔥🔥🔥 so I ended up  making one of the dopest songs out!!! LINK IN BIO I love it 😀 LINK IN  BIO SHOW SOME LOVE COMING UP BIG 2019🖤💔 .c  Love you all 🖖👽🖖please follow   and  for psychedelic and lucid dreaming stories🔦📃📜 tips and tools for exploration I also wanna hear mostly from you guy I love a good story please comment and share you story thats more important to me love u guys 🗿🙌🤘💯🌺🌷🌻👽🙏📲,  wipe that skittle colored cum off your lips son  I think you’re a fucking dipshit 16 year old that doesn’t know a damn thing about hip hop. Don’t forget to tattoo that rainbow colored cock across your forehead .aaa  Fuck Off Son  weak , slap your daddy for raising such a baby shit soft yokel like yourself.  stop trying to be something because other people are. That’s fake as Fuck and it shows everyone that you can’t do something cause it’s in your heart to do it. Do something cause you wanna do it and not so you can be a fuck boi and promote yourself when nobody is gonna check out your shitty songs  wrong my weird looking friend.....I have 10k plus on my song......sooooooo your wrong😂😂😂😂🤣🤣🤣🤣🤣 I'm actually dope as fuck!!!  Dude 10k ain’t shit Lmfao. Put anything stupid enough on Youtube and it’ll get famous. Lemme just state that being a wannabe that does shit cause someone else did it and claiming your shit is better is stupid.    and all them would blow your song clean outta the water and into the dirt  nah you suckin dick!!! I like 69 and x but trippie is ass juice. When my shit hit a 1  I don’t listen trippie redd but I do listen to X and Tekashi. Also you gotta get more then 10k for a #1 bud  I don’t listen trippie redd but I do listen to X and Tekashi. Also you gotta get more then 10k for a #1 bud  I meant to say 100,000 views  you doing good but to get top you gotta get a lot more than that dude.  I'm working on it!!! I got so much heat coming  Mkay you do you man. Work hard and you’ll have the reward.  Mkay you do you man. Work hard and you’ll have the reward.  kopy. Thanks my man  What did 6ix 9ine do?   JAJAJAJAJAJAJAJA  jajaja😹 TR3YWAY That daycare was on the news and they put drugs in the kids drinks PEACE 6ix9ine \n",
      "--------------------------------------------------\n",
      "Influencer: lisa_allen\n",
      "Average Sentiment Score: -0.936\n",
      "Sample Comments:\n",
      " - The link isn’t working. Is it google WiFi?  maybe that would help your WiFi!!😉 This is fantastic! I was just thinking about how much I hate our ugly router and was trying to figure out where we could hide it. I must have and you are too cute!  wait, WHAT?! Was your account hacked? Is this real? Ie: to good to be true?!?!  it’s so great!  lolol this is not spam! This could be the answer to your WiFi nightmares hahah  ❤️  oh it will!  it is.  yes it acts as a router. Your WiFi connection will be changed!!!  what is it called? Link doesn’t work  i feel you.  we’ve had AT&T at our house at least 6 times and it’s never better. The google WiFi has made all the difference 🙌🏻  there’s a swipe up in her stories, but google WiFi! I need this! We need this in our lives badly. Our WiFi stinks  I’ve never heard of this. I will send it to Dave! Thank you!!!👏🏻 She’s so cute I can’t take it  you Omgggg an answer for att in Encinitas!?? 🙌🏼😱😍 Need  isn’t it the absolute worst service?!?! We live in an old ranch house and these have helped SO much! We live in an old ranch house and these have helped SO much!  it’s completely worthless!  Will you be doing a gift guide for girls Goldies age?  it’s the worst service everywhere...not just in CA! Ozzy literally has the cutest expressions!! 🧡 Why do you need multiple units? For a larger house-like one upstairs and one downstairs? Ours has pockets of the house that are better than others but the worst for us is when watching Netflix or Amazon and it’s suddenly not connected. Cox internet here is retarded.  depends on your internet. Ours is terrible in every room in our house so we have them in all the major rooms we use WiFi. Only for AT&T customers? That baby is eatable! I just want to squeeze and kiss her 😘☺️  nope. It’s for any home WiFi.  🙌🏻🙌🏻🙌🏻☺️🎄 Ok so you still pay for your wireless service through whoever and these are just better routers than the crap they give you? Is that how it works?!  yes you still pay for service with an internet company. This just boosts your service so it actually works. Obsesssd So cute!! 😍 \n",
      "--------------------------------------------------\n",
      "Influencer: smashbros.hell\n",
      "Average Sentiment Score: -0.936\n",
      "Sample Comments:\n",
      " - How did the pancakes taste? Could you taste the green?? Dude those pancakes is made of the Grinch I hate to break it to you Cheif but... The Grinch Ejacualted in your  pancakes Wonder how it’s made 🤔 I’m the grinch, and I love lasagna 🗿 I REALLY don’t like the way that white stuff looks on those pancakes I get Smash today from preorder Looks like the Grinch nutted because of Cindy Lou. Green pancake WTF 🤦‍♂️ The amount of sugar in those fucking things made my stomach upset for hours after eating them Guac Lowkey these are fucking good Expectations vs Reality Green eggs and Ham .hell yea bro when i went they didn't even have the green icing or hearts wtf   .overdr1ve you just ruined  night hahaha .overdr1ve I hate you all I had mine and they ran out literally everything other than the pancakes and the grinch cum itself, it tasted liked cake Bro instead you should’ve gotten the whoville cheesecake French toast The grinchs cum cakes Dead ass made me throw up. Don’t try em Recently, we went to IHOP, and my sister got the Grinch hot chocolate. It was really good, actaully .for.it_still.brain eat the grinch. Oof diabetes must be “heart filling” Wonder what is taste Eat at iHop or iHob You mean Ihob nigga I did not like the grinch pancakes Dont you mean iho🅱 Guac flavor 🤢🤢 EWWWW What was ur Review of them That’s what you get and just saying not trying to be mean but leaks aren’t real they are all fake I knew it was fake from the start Mainly because it was low quality, that's how they always make fake leaks That doesn't look as nearly as delicious and succulent...... Dont go 😭\n",
      "--------------------------------------------------\n",
      "Influencer: miraclewatts00\n",
      "Average Sentiment Score: -0.935\n",
      "Sample Comments:\n",
      " - But you look much better in it then her Sis..... ❤️❤️❤️ 🌹🌹  wait lol why u say that  not expected to see Vicky on here💀 😍😍❤️❤️❤️ SLAY I feel like I would look so good in this fit As a black person, the way she mocked us... 😍 😂  black peoples moto: forgive & love everybody. I don't get why she posted her either but hey it's her page 🤷🏾 ❤️❤️❤️❤️❤️❤️ 😂😂😂😂😂 I’m sick she got on Carti’s Meh. What an ugly ass outfit Have you shopped our wig collection 🙆? She wearing red cartis?!?! A-1 Nah, she didn't... Sup Sup Miracle ... come on now. Why support this culture vulture troglodyte smh she ain’t shit Girl no. 🙄💀🗑🗑🗑🗑🗑 Nice body 💝💝 She did? Where? LMFAOOOOOOOOOOOOOOOOO 👌 🔥 feel free to check us out luv No she look a fool Sis just be trying too hard for my taste! It’s a NO 😂 She is very pretty but god damn her feet big as hell ....🤷🏽‍♂️🤦‍♂️\n",
      "--------------------------------------------------\n"
     ]
    }
   ],
   "source": [
    "import pandas as pd\n",
    "from nltk.sentiment import SentimentIntensityAnalyzer\n",
    "import nltk\n",
    "from langdetect import detect, DetectorFactory\n",
    "\n",
    "DetectorFactory.seed = 0\n",
    "\n",
    "nltk.download('vader_lexicon')\n",
    "\n",
    "# Load data\n",
    "df = pd.read_csv(\"/kaggle/input/comments/merged_df-2.csv\")\n",
    "df['extracted_comments'] = df['extracted_comments'].fillna(\"\")\n",
    "\n",
    "# Initialize VADER\n",
    "sia = SentimentIntensityAnalyzer()\n",
    "\n",
    "# Function: Detect language and apply sentiment\n",
    "def get_vader_sentiment(text):\n",
    "    try:\n",
    "        if detect(text) == 'en':\n",
    "            return sia.polarity_scores(text)['compound']\n",
    "        else:\n",
    "            return 0  # Non-English\n",
    "    except:\n",
    "        return 0  # Empty or undetectable text\n",
    "\n",
    "# Apply sentiment analysis\n",
    "df['sentiment_score'] = df['extracted_comments'].apply(get_vader_sentiment)\n",
    "\n",
    "# Average sentiment per influencer\n",
    "influencer_scores = df.groupby('User').agg({\n",
    "    'sentiment_score': 'mean',\n",
    "    'extracted_comments': lambda x: list(x)[:3]  # first 3 comments for display\n",
    "}).reset_index()\n",
    "\n",
    "# Sort by sentiment (ascending)\n",
    "influencer_scores = influencer_scores.sort_values(by='sentiment_score', ascending=True)\n",
    "\n",
    "for index, row in influencer_scores.head(25).iterrows():\n",
    "    print(f\"Influencer: {row['User']}\")\n",
    "    print(f\"Average Sentiment Score: {row['sentiment_score']:.3f}\")\n",
    "    print(\"Sample Comments:\")\n",
    "    for comment in row['extracted_comments']:\n",
    "        print(f\" - {comment}\")\n",
    "    print(\"-\" * 50)\n",
    "\n",
    "influencer_scores.to_csv(\"influencer_sentiment_scores.csv\", index=False)\n"
   ]
  },
  {
   "cell_type": "code",
   "execution_count": 4,
   "id": "680d0a4b",
   "metadata": {
    "execution": {
     "iopub.execute_input": "2025-05-13T12:59:40.420800Z",
     "iopub.status.busy": "2025-05-13T12:59:40.420475Z",
     "iopub.status.idle": "2025-05-13T12:59:40.444274Z",
     "shell.execute_reply": "2025-05-13T12:59:40.443302Z"
    },
    "papermill": {
     "duration": 0.030645,
     "end_time": "2025-05-13T12:59:40.446278",
     "exception": false,
     "start_time": "2025-05-13T12:59:40.415633",
     "status": "completed"
    },
    "tags": []
   },
   "outputs": [
    {
     "data": {
      "text/html": [
       "<div>\n",
       "<style scoped>\n",
       "    .dataframe tbody tr th:only-of-type {\n",
       "        vertical-align: middle;\n",
       "    }\n",
       "\n",
       "    .dataframe tbody tr th {\n",
       "        vertical-align: top;\n",
       "    }\n",
       "\n",
       "    .dataframe thead th {\n",
       "        text-align: right;\n",
       "    }\n",
       "</style>\n",
       "<table border=\"1\" class=\"dataframe\">\n",
       "  <thead>\n",
       "    <tr style=\"text-align: right;\">\n",
       "      <th></th>\n",
       "      <th>User</th>\n",
       "      <th>sentiment_score</th>\n",
       "      <th>extracted_comments</th>\n",
       "    </tr>\n",
       "  </thead>\n",
       "  <tbody>\n",
       "    <tr>\n",
       "      <th>10396</th>\n",
       "      <td>kelseyplum10</td>\n",
       "      <td>-0.9983</td>\n",
       "      <td>[Anyone else 👀 those kyries tho???? 🔥🔥🔥I have ...</td>\n",
       "    </tr>\n",
       "    <tr>\n",
       "      <th>12086</th>\n",
       "      <td>lovenhiphopfans</td>\n",
       "      <td>-0.9979</td>\n",
       "      <td>[Y’all could’ve used a better picture, Home gi...</td>\n",
       "    </tr>\n",
       "    <tr>\n",
       "      <th>16466</th>\n",
       "      <td>randecent</td>\n",
       "      <td>-0.9968</td>\n",
       "      <td>[At that point not gonna front I would make a ...</td>\n",
       "    </tr>\n",
       "    <tr>\n",
       "      <th>20151</th>\n",
       "      <td>thecomputernerd01</td>\n",
       "      <td>-0.9961</td>\n",
       "      <td>[So no head? When you studied for a test but y...</td>\n",
       "    </tr>\n",
       "    <tr>\n",
       "      <th>22634</th>\n",
       "      <td>whatsinside</td>\n",
       "      <td>-0.9906</td>\n",
       "      <td>[ too much money, and nobody else would do tha...</td>\n",
       "    </tr>\n",
       "  </tbody>\n",
       "</table>\n",
       "</div>"
      ],
      "text/plain": [
       "                    User  sentiment_score  \\\n",
       "10396       kelseyplum10          -0.9983   \n",
       "12086    lovenhiphopfans          -0.9979   \n",
       "16466          randecent          -0.9968   \n",
       "20151  thecomputernerd01          -0.9961   \n",
       "22634        whatsinside          -0.9906   \n",
       "\n",
       "                                      extracted_comments  \n",
       "10396  [Anyone else 👀 those kyries tho???? 🔥🔥🔥I have ...  \n",
       "12086  [Y’all could’ve used a better picture, Home gi...  \n",
       "16466  [At that point not gonna front I would make a ...  \n",
       "20151  [So no head? When you studied for a test but y...  \n",
       "22634  [ too much money, and nobody else would do tha...  "
      ]
     },
     "execution_count": 4,
     "metadata": {},
     "output_type": "execute_result"
    }
   ],
   "source": [
    "influencer_scores.head()"
   ]
  },
  {
   "cell_type": "code",
   "execution_count": 5,
   "id": "6f40d0f8",
   "metadata": {
    "execution": {
     "iopub.execute_input": "2025-05-13T12:59:40.455870Z",
     "iopub.status.busy": "2025-05-13T12:59:40.455585Z",
     "iopub.status.idle": "2025-05-13T12:59:40.503479Z",
     "shell.execute_reply": "2025-05-13T12:59:40.502346Z"
    },
    "papermill": {
     "duration": 0.054815,
     "end_time": "2025-05-13T12:59:40.505224",
     "exception": false,
     "start_time": "2025-05-13T12:59:40.450409",
     "status": "completed"
    },
    "tags": []
   },
   "outputs": [],
   "source": [
    "# Save only 'User' and 'sentiment_score' columns to CSV\n",
    "influencer_scores[['User', 'sentiment_score']].to_csv(\"influencer_sentiment_scores_final.csv\", index=False)\n"
   ]
  },
  {
   "cell_type": "code",
   "execution_count": null,
   "id": "e93488a9",
   "metadata": {
    "papermill": {
     "duration": 0.003824,
     "end_time": "2025-05-13T12:59:40.513280",
     "exception": false,
     "start_time": "2025-05-13T12:59:40.509456",
     "status": "completed"
    },
    "tags": []
   },
   "outputs": [],
   "source": []
  },
  {
   "cell_type": "code",
   "execution_count": null,
   "id": "4ab87113",
   "metadata": {
    "papermill": {
     "duration": 0.003737,
     "end_time": "2025-05-13T12:59:40.520932",
     "exception": false,
     "start_time": "2025-05-13T12:59:40.517195",
     "status": "completed"
    },
    "tags": []
   },
   "outputs": [],
   "source": []
  },
  {
   "cell_type": "code",
   "execution_count": null,
   "id": "b4ab3529",
   "metadata": {
    "papermill": {
     "duration": 0.003726,
     "end_time": "2025-05-13T12:59:40.528610",
     "exception": false,
     "start_time": "2025-05-13T12:59:40.524884",
     "status": "completed"
    },
    "tags": []
   },
   "outputs": [],
   "source": []
  }
 ],
 "metadata": {
  "kaggle": {
   "accelerator": "none",
   "dataSources": [
    {
     "datasetId": 7397515,
     "sourceId": 11782553,
     "sourceType": "datasetVersion"
    }
   ],
   "dockerImageVersionId": 31012,
   "isGpuEnabled": false,
   "isInternetEnabled": true,
   "language": "python",
   "sourceType": "notebook"
  },
  "kernelspec": {
   "display_name": "Python 3",
   "language": "python",
   "name": "python3"
  },
  "language_info": {
   "codemirror_mode": {
    "name": "ipython",
    "version": 3
   },
   "file_extension": ".py",
   "mimetype": "text/x-python",
   "name": "python",
   "nbconvert_exporter": "python",
   "pygments_lexer": "ipython3",
   "version": "3.11.11"
  },
  "papermill": {
   "default_parameters": {},
   "duration": 168.638087,
   "end_time": "2025-05-13T12:59:41.557289",
   "environment_variables": {},
   "exception": null,
   "input_path": "__notebook__.ipynb",
   "output_path": "__notebook__.ipynb",
   "parameters": {},
   "start_time": "2025-05-13T12:56:52.919202",
   "version": "2.6.0"
  }
 },
 "nbformat": 4,
 "nbformat_minor": 5
}
